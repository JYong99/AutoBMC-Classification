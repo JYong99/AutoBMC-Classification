{
 "cells": [
  {
   "cell_type": "code",
   "execution_count": 1,
   "metadata": {},
   "outputs": [
    {
     "name": "stderr",
     "output_type": "stream",
     "text": [
      "2024-01-26 18:12:13.755384: I tensorflow/core/platform/cpu_feature_guard.cc:182] This TensorFlow binary is optimized to use available CPU instructions in performance-critical operations.\n",
      "To enable the following instructions: AVX2 FMA, in other operations, rebuild TensorFlow with the appropriate compiler flags.\n",
      "2024-01-26 18:12:14.331824: W tensorflow/compiler/tf2tensorrt/utils/py_utils.cc:38] TF-TRT Warning: Could not find TensorRT\n"
     ]
    }
   ],
   "source": [
    "import torch, evaluate, numpy as np, wandb\n",
    "from datasets import load_dataset\n",
    "from transformers import AutoImageProcessor, AutoModelForImageClassification, TrainingArguments, Trainer\n",
    "from sklearn.metrics import confusion_matrix, f1_score\n",
    "from torchvision.transforms import (\n",
    "    Compose,\n",
    "    \n",
    "    GaussianBlur,\n",
    "    ColorJitter,\n",
    "    RandomAffine,\n",
    "    RandomVerticalFlip,\n",
    "    RandomRotation,\n",
    "    RandomHorizontalFlip,\n",
    "    RandomResizedCrop,\n",
    "\n",
    "    CenterCrop,\n",
    "    Resize,\n",
    "    Normalize,\n",
    "    ToTensor,\n",
    ")"
   ]
  },
  {
   "cell_type": "code",
   "execution_count": 24,
   "metadata": {},
   "outputs": [
    {
     "name": "stdout",
     "output_type": "stream",
     "text": [
      "100\n",
      "['FGC', 'LYI', 'ABE', 'KSC']\n"
     ]
    }
   ],
   "source": [
    "import os\n",
    "import random\n",
    "import shutil\n",
    "\n",
    "def balance_dataset(input_folder, output_folder):\n",
    "    # Create output folder if it doesn't exist\n",
    "    if not os.path.exists(output_folder):\n",
    "        os.makedirs(output_folder)\n",
    "    else:\n",
    "        shutil.rmtree(output_folder)\n",
    "\n",
    "    classes = os.listdir(input_folder)\n",
    "\n",
    "    # Find the class with the minimum number of samples\n",
    "    min_class_samples = min([len(os.listdir(os.path.join(input_folder, c))) for c in classes])\n",
    "    min_class_samples = 100\n",
    "\n",
    "    under_class = []\n",
    "    # Undersample each class\n",
    "    for c in classes:\n",
    "        class_folder = os.path.join(input_folder, c)\n",
    "        output_class_folder = os.path.join(output_folder, c)\n",
    "\n",
    "        # Create output class folder if it doesn't exist\n",
    "        if not os.path.exists(output_class_folder):\n",
    "            os.makedirs(output_class_folder)\n",
    "\n",
    "        # Undersample the class randomly\n",
    "        files = os.listdir(class_folder)\n",
    "        if len(files) < min_class_samples:\n",
    "            selected_files = files\n",
    "            under_class.append(c)\n",
    "        else:\n",
    "            selected_files = random.sample(files, min_class_samples)\n",
    "\n",
    "        # Copy selected files to the output class folder\n",
    "        for file in selected_files:\n",
    "            shutil.copy(os.path.join(class_folder, file), os.path.join(output_class_folder, file))\n",
    "    print(under_class)\n",
    "\n",
    "    \n",
    "\n",
    "if __name__ == \"__main__\":\n",
    "    input_folder = \"/home/dxd_jy/joel/Capstone/Dataset/Reject/Too Little\"\n",
    "    output_folder = \"balanced/dataset\"\n",
    "\n",
    "    balance_dataset(input_folder, output_folder)"
   ]
  }
 ],
 "metadata": {
  "kernelspec": {
   "display_name": "base",
   "language": "python",
   "name": "python3"
  },
  "language_info": {
   "codemirror_mode": {
    "name": "ipython",
    "version": 3
   },
   "file_extension": ".py",
   "mimetype": "text/x-python",
   "name": "python",
   "nbconvert_exporter": "python",
   "pygments_lexer": "ipython3",
   "version": "3.9.12"
  }
 },
 "nbformat": 4,
 "nbformat_minor": 2
}
