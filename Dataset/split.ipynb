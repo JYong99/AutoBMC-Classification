{
 "cells": [
  {
   "cell_type": "code",
   "execution_count": 1,
   "metadata": {},
   "outputs": [],
   "source": [
    "import os \n",
    "import shutil\n",
    "from sklearn.model_selection import train_test_split"
   ]
  },
  {
   "cell_type": "code",
   "execution_count": 2,
   "metadata": {},
   "outputs": [],
   "source": [
    "root_dir = '/home/dxd_jy/joel/Capstone/Dataset/Dataset_Test'\n",
    "\n",
    "all_subfolders = os.listdir(root_dir)"
   ]
  },
  {
   "cell_type": "code",
   "execution_count": 3,
   "metadata": {},
   "outputs": [
    {
     "name": "stdout",
     "output_type": "stream",
     "text": [
      "\n",
      "Total Images at ART: 19630\n",
      "Total Train: 15704\n",
      "Total Test: 3926\n",
      "Perc %: 0.8\n",
      "\n",
      "Total Images at BAS: 441\n",
      "Total Train: 352\n",
      "Total Test: 89\n",
      "Perc %: 0.7981859410430839\n"
     ]
    }
   ],
   "source": [
    "for x in range(len(all_subfolders)):\n",
    "    folder = root_dir + '/' + all_subfolders[x]\n",
    "    all_files = os.listdir(folder)\n",
    "\n",
    "    train_files, test_files = train_test_split(all_files, test_size=0.2, random_state=42)\n",
    "\n",
    "    a = len(train_files)\n",
    "    b = len(test_files)\n",
    "    c = len(all_files)\n",
    "\n",
    "    print(f\"\\nTotal Images at {all_subfolders[x]}: {c}\")\n",
    "    print(f\"Total Train: {a}\")\n",
    "    print(f\"Total Test: {b}\")\n",
    "    print(f\"Perc %: {a/c}\")\n",
    "\n",
    "    train_folder = root_dir + '/train/' + all_subfolders[x]\n",
    "    test_folder = root_dir + '/test/' + all_subfolders[x]\n",
    "\n",
    "    os.makedirs(train_folder, exist_ok=True)\n",
    "    os.makedirs(test_folder, exist_ok=True)\n",
    "    \n",
    "    # Move files to train folder\n",
    "    for file_name in train_files:\n",
    "        src_path = os.path.join(folder, file_name)\n",
    "        dst_path = os.path.join(train_folder, file_name)\n",
    "        shutil.move(src_path, dst_path)\n",
    "\n",
    "    # Move files to test folder\n",
    "    for file_name in test_files:\n",
    "        src_path = os.path.join(folder, file_name)\n",
    "        dst_path = os.path.join(test_folder, file_name)\n",
    "        shutil.move(src_path, dst_path)\n",
    "\n",
    "    os.rmdir(folder)"
   ]
  }
 ],
 "metadata": {
  "kernelspec": {
   "display_name": "base",
   "language": "python",
   "name": "python3"
  },
  "language_info": {
   "codemirror_mode": {
    "name": "ipython",
    "version": 3
   },
   "file_extension": ".py",
   "mimetype": "text/x-python",
   "name": "python",
   "nbconvert_exporter": "python",
   "pygments_lexer": "ipython3",
   "version": "3.9.12"
  }
 },
 "nbformat": 4,
 "nbformat_minor": 2
}
